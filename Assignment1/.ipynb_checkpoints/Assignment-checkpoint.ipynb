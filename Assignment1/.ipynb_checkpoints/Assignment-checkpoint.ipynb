{
 "cells": [
  {
   "cell_type": "code",
   "execution_count": 1,
   "id": "5850aa7f-a8ed-47ba-b241-1a8a3a28bd4d",
   "metadata": {},
   "outputs": [
    {
     "name": "stdin",
     "output_type": "stream",
     "text": [
      " 20\n"
     ]
    },
    {
     "name": "stdout",
     "output_type": "stream",
     "text": [
      "twenty\n"
     ]
    }
   ],
   "source": [
    "n = int(input())\n",
    "num_str = str(n)\n",
    "length = len(num_str)\n",
    "val = 0 #Variable indicating whether zero is a digit or no\n",
    "ans = \"\"\n",
    "#This list is used to store the word of elements >= 20\n",
    "tens_list = [\"\",\"\",\"twenty\",\"thirty\", \"forty\", \"fifty\", \"sixty\", \"seventy\", \"eighty\", \"ninety\"]\n",
    "\n",
    "#This list is used to store the word of elements 1 <x< 9\n",
    "ones_list = [\"\",\"one\",\"two\",\"three\",\"four\",\"five\",\"six\",\"seven\",\"eight\",\"nine\"]\n",
    "\n",
    "#This list is used to store the ans of elements 10 < x < 19\n",
    "special_list = [\"ten\",\"eleven\",\"twelve\",\"thirteen\",\"fourteen\",\"fifteen\",\"sixteen\",\"seventeen\",\"eighteen\",\"nineteen\"] \n",
    "def tens(n): \n",
    "# Return the first part of the value of a two digit num\n",
    "\n",
    "    global ans\n",
    "    num = int(n)\n",
    "    ans = ans + tens_list[num]\n",
    "    if val:\n",
    "        ans += \" \"\n",
    "\n",
    "def ones(n):\n",
    "\n",
    "# Return the second part of the value of a two digit num or \n",
    "# the ans of a one digit number\n",
    "\n",
    "    global ans\n",
    "    num = int(n)\n",
    "    ans += ones_list[num]\n",
    "\n",
    "def special(n):\n",
    "# Returns ans for values between 10 and 19\n",
    "\n",
    "    global ans\n",
    "    num = int(n)\n",
    "    ans += special_list[num]\n",
    "\n",
    "\n",
    "if length == 2:\n",
    "    if num_str[1] != \"0\":\n",
    "        val = 1\n",
    "\n",
    "    if num_str[0] == \"1\":\n",
    "        special(num_str[1])\n",
    "\n",
    "    else:\n",
    "        tens(num_str[0])\n",
    "        ones(num_str[1])\n",
    "\n",
    "else:\n",
    "    if n == 0:\n",
    "        ans = \"zero\"\n",
    "\n",
    "    else:\n",
    "        ones(num_str[0])\n",
    "\n",
    "print(ans)"
   ]
  },
  {
   "cell_type": "code",
   "execution_count": 2,
   "id": "8d0f2c8a-5a67-4a8d-984a-140df27f889e",
   "metadata": {},
   "outputs": [
    {
     "name": "stdout",
     "output_type": "stream",
     "text": [
      "Optimum chairs to be produced 40\n",
      "Optimum tables to be produced 40\n",
      "Max profit is 4600\n"
     ]
    }
   ],
   "source": [
    "x_max = 0 ; y_max = 0 #Initializing the chairs and tables initially to 0\n",
    "max_profit = 0\n",
    "\n",
    "def profit(x, y): #Checks if p > max_profit and changes respectively\n",
    "    global max_profit , x_max , y_max\n",
    "    p = 90 * x + 25 * y\n",
    "    if p >= max_profit:\n",
    "        max_profit = p\n",
    "        x_max = x\n",
    "        y_max = y\n",
    "\n",
    "def labour_hours(x, y): #Checks if the constraint conditions are satisified\n",
    "    if ((8 * x) + (2 * y) <= 400) and ((2 * x) + (y) <= 120):\n",
    "        profit(x,y)\n",
    "\n",
    "\n",
    "for x1 in range(0,61): #Iterates through maximum tables and chairs that can produced\n",
    "    for x2 in range(0,201):\n",
    "        labour_hours(x1,x2)\n",
    "\n",
    "\n",
    "print(f\"Optimum chairs to be produced {y_max}\")\n",
    "print(f\"Optimum tables to be produced {x_max}\")\n",
    "print(f\"Max profit is {max_profit}\")"
   ]
  },
  {
   "cell_type": "code",
   "execution_count": 3,
   "id": "d11df745-af0f-4f18-bd1c-27f793fead36",
   "metadata": {},
   "outputs": [
    {
     "name": "stdin",
     "output_type": "stream",
     "text": [
      " 10\n",
      " 20\n",
      " 30\n",
      " 40\n",
      " 60\n",
      " \n"
     ]
    },
    {
     "ename": "ValueError",
     "evalue": "could not convert string to float: ''",
     "output_type": "error",
     "traceback": [
      "\u001b[0;31m---------------------------------------------------------------------------\u001b[0m",
      "\u001b[0;31mValueError\u001b[0m                                Traceback (most recent call last)",
      "Cell \u001b[0;32mIn[3], line 8\u001b[0m\n\u001b[1;32m      5\u001b[0m total_distance \u001b[38;5;241m=\u001b[39m \u001b[38;5;241m0\u001b[39m\n\u001b[1;32m      7\u001b[0m \u001b[38;5;28;01mwhile\u001b[39;00m \u001b[38;5;28;01mTrue\u001b[39;00m:\n\u001b[0;32m----> 8\u001b[0m     distance \u001b[38;5;241m=\u001b[39m d \u001b[38;5;241m=\u001b[39m \u001b[38;5;28;43mfloat\u001b[39;49m\u001b[43m(\u001b[49m\u001b[38;5;28;43minput\u001b[39;49m\u001b[43m(\u001b[49m\u001b[43m)\u001b[49m\u001b[43m)\u001b[49m\n\u001b[1;32m     10\u001b[0m     \u001b[38;5;28;01mif\u001b[39;00m (\u001b[38;5;241m0\u001b[39m \u001b[38;5;241m<\u001b[39m d \u001b[38;5;241m<\u001b[39m\u001b[38;5;241m=\u001b[39m \u001b[38;5;241m25\u001b[39m): \u001b[38;5;66;03m#North condition\u001b[39;00m\n\u001b[1;32m     11\u001b[0m         y \u001b[38;5;241m+\u001b[39m\u001b[38;5;241m=\u001b[39m d \n",
      "\u001b[0;31mValueError\u001b[0m: could not convert string to float: ''"
     ]
    }
   ],
   "source": [
    "import math\n",
    "x0 = 5.0 #Initializing the values\n",
    "y0 = 5.0\n",
    "x = x0 ; y = y0\n",
    "total_distance = 0\n",
    "\n",
    "while True:\n",
    "    distance = d = float(input())\n",
    "\n",
    "    if (0 < d <= 25): #North condition\n",
    "        y += d \n",
    "        total_distance += d\n",
    "\n",
    "    elif (26 <= d <= 50): #South condition\n",
    "        y -= d\n",
    "        total_distance += d\n",
    "\n",
    "    elif (51 <= d <= 75): #East condition\n",
    "        x += d\n",
    "        total_distance += d\n",
    "\n",
    "    elif (d >= 76): #West condition\n",
    "        x -= d \n",
    "        total_distance += d\n",
    "    \n",
    "    elif (d <= 0):\n",
    "        break\n",
    "\n",
    "print(f\"Final coordinates are ({x}, {y})\")\n",
    "print(f\"Total distance travelled is {total_distance}\")\n",
    "val = math.sqrt((x ** 2) + (y ** 2))\n",
    "print(f\"The final straight line distance is {val}\")\n"
   ]
  },
  {
   "cell_type": "code",
   "execution_count": 4,
   "id": "df1c6846-008a-4964-a0bd-59c683e826c9",
   "metadata": {},
   "outputs": [
    {
     "name": "stdin",
     "output_type": "stream",
     "text": [
      " 10\n",
      " 20\n"
     ]
    },
    {
     "name": "stdout",
     "output_type": "stream",
     "text": [
      "Area 15008.953737949176\n"
     ]
    }
   ],
   "source": [
    "from math import *\n",
    "\n",
    "def formula(t): #Returns the value of the integrand\n",
    "    val = 2000 * (log (140000 / (140000 - (2100 * t)))) - (9.8 * t)\n",
    "    return val\n",
    "\n",
    "dt = 0.25\n",
    "start = a = int(input())\n",
    "end = b = int(input())\n",
    "area = 0\n",
    "while a <= b: #Keeps adding dt to a until it reaches the end value\n",
    "    area += abs(formula(a))\n",
    "    a += dt\n",
    "\n",
    "print(f\"Area {area}\")"
   ]
  },
  {
   "cell_type": "code",
   "execution_count": 5,
   "id": "2eef8292-7db2-4463-91b9-963b39ed428a",
   "metadata": {},
   "outputs": [
    {
     "name": "stdin",
     "output_type": "stream",
     "text": [
      " 45\n",
      " 10\n"
     ]
    },
    {
     "name": "stdout",
     "output_type": "stream",
     "text": [
      "Height of the pole: 9.992039901050427\n",
      "Length of the pole: 14.136508104344008\n"
     ]
    }
   ],
   "source": [
    "def fac(n):\n",
    "    fac = 1\n",
    "    if n == 1 or n == 0:\n",
    "        return fac\n",
    "\n",
    "    for i in range(2, n+1):\n",
    "        fac *= i\n",
    "\n",
    "    return fac\n",
    "\n",
    "def cos(x):\n",
    "    n = 0\n",
    "    ans = 0\n",
    "    while n < 10:\n",
    "        val = ((-1) ** n) * ((x ** (2 * n))/fac(2 * n))\n",
    "        ans += val\n",
    "        n+=1\n",
    "\n",
    "    return ans\n",
    "\n",
    "def sin(x):\n",
    "    n = 0\n",
    "    ans = 0\n",
    "    while n < 10:\n",
    "        val = ((-1) ** n) * ((x ** (2 * n + 1))/fac(2 * n + 1))\n",
    "        ans += val\n",
    "        n+=1\n",
    "\n",
    "    return ans\n",
    "\n",
    "def tan(x):\n",
    "    return sin(x) / cos(x)\n",
    "\n",
    "angle = float(input())\n",
    "h = horizontal = float(input())\n",
    "\n",
    "radians = (angle * 3.14) / 180\n",
    "\n",
    "v = vertical =  tan(radians) * h #Forumula for finding height\n",
    "l = length = h / cos(radians)    #Formula for finding hypoteneuse\n",
    "if angle == 90:\n",
    "    v = \"Infinite\"\n",
    "    l = \"Infinite\"\n",
    "\n",
    "print(f\"Height of the pole: {v}\")\n",
    "print(f\"Length of the pole: {l}\")"
   ]
  },
  {
   "cell_type": "code",
   "execution_count": 6,
   "id": "8d84f15c-3617-438a-9355-585792d2c0ea",
   "metadata": {},
   "outputs": [
    {
     "name": "stdin",
     "output_type": "stream",
     "text": [
      " 7\n"
     ]
    },
    {
     "name": "stdout",
     "output_type": "stream",
     "text": [
      "*           *\n",
      "**         **\n",
      "***       ***\n",
      "****     ****\n",
      "*****   *****\n",
      "****** ******\n",
      "*************\n"
     ]
    }
   ],
   "source": [
    "n = int(input())\n",
    "\n",
    "for i in range(1,n): #Runs till second last line\n",
    "\n",
    "    print(\"*\"*i,end=\"\")#Prints the left part\n",
    "\n",
    "    print(\" \"* (2 * n - 1 - i - i),end=\"\") # Prints the spaces in the middle\n",
    "\n",
    "    print(\"*\"*i,end=\"\") #Prints the right part\n",
    "\n",
    "    print()\n",
    "\n",
    "print(\"*\" * (2 * n - 1)) #Prints out the last line\n"
   ]
  },
  {
   "cell_type": "code",
   "execution_count": null,
   "id": "cb9d3271-6f3b-4030-9516-e20b9107840d",
   "metadata": {},
   "outputs": [],
   "source": []
  }
 ],
 "metadata": {
  "kernelspec": {
   "display_name": "Python 3.11.0 64-bit",
   "language": "python",
   "name": "python311064bite3dd30ed50dd442999218d3f71601056"
  },
  "language_info": {
   "codemirror_mode": {
    "name": "ipython",
    "version": 3
   },
   "file_extension": ".py",
   "mimetype": "text/x-python",
   "name": "python",
   "nbconvert_exporter": "python",
   "pygments_lexer": "ipython3",
   "version": "3.11.0"
  }
 },
 "nbformat": 4,
 "nbformat_minor": 5
}
